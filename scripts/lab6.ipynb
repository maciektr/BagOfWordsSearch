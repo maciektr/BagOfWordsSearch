{
 "cells": [
  {
   "cell_type": "markdown",
   "metadata": {
    "collapsed": true,
    "pycharm": {
     "name": "#%% md\n"
    }
   },
   "source": [
    "# Lab 6 - Wyszukiwarka\n",
    "### Import potrzebnych funkcji"
   ]
  },
  {
   "cell_type": "code",
   "execution_count": 67,
   "metadata": {
    "pycharm": {
     "is_executing": true,
     "name": "#%%\n"
    }
   },
   "outputs": [],
   "source": [
    "import importlib\n",
    "import lookup\n",
    "importlib.reload(lookup)\n",
    "from lookup import get_all_words, process_words\n",
    "\n",
    "import numpy as np"
   ]
  },
  {
   "cell_type": "markdown",
   "metadata": {},
   "source": [
    "### Wygenerujmy unię wszystkich słów"
   ]
  },
  {
   "cell_type": "code",
   "execution_count": 3,
   "metadata": {
    "pycharm": {
     "is_executing": true,
     "name": "#%% %timeit -n 1\n"
    }
   },
   "outputs": [],
   "source": [
    "folder = 'wiki'\n",
    "all_words = get_all_words(folder)"
   ]
  },
  {
   "cell_type": "code",
   "execution_count": 4,
   "metadata": {},
   "outputs": [
    {
     "name": "stdout",
     "output_type": "stream",
     "text": [
      "199243\n",
      "['500', '\"Spec', 'Factor\".', 'horse,', 'Finest', 'Beneficiairies\".', 'Order.', '2-ranked', '(Tg).', '0.33', 'Belfast,', 'specs', 'Incarnate', 'opening', 'a}{4\\\\pi', 'Hämeenlinna', 'doi:10.1103/physrev.134.b1410.', '1885893.', 'Caritas', '15th-century']\n"
     ]
    }
   ],
   "source": [
    "print(len(all_words))\n",
    "print(all_words[0:20])"
   ]
  },
  {
   "cell_type": "code",
   "execution_count": 68,
   "metadata": {},
   "outputs": [
    {
     "name": "stderr",
     "output_type": "stream",
     "text": [
      "[nltk_data] Downloading package stopwords to\n",
      "[nltk_data]     /home/maciektr/nltk_data...\n",
      "[nltk_data]   Package stopwords is already up-to-date!\n"
     ]
    }
   ],
   "source": [
    "processed_words = process_words(all_words)"
   ]
  },
  {
   "cell_type": "code",
   "execution_count": 69,
   "metadata": {},
   "outputs": [
    {
     "name": "stdout",
     "output_type": "stream",
     "text": [
      "82092\n",
      "['compel', 'phones', 'cassation', 'ktzai', 'ouaddaï', 'coupl', 'clynton', 'andersen', 'templatesaintpierremiquelonstub', 'seu', 'physicscentr', 'centuryedit', 'emili', 'worst', 'coolwint', 'rohwer', 'categoryeuroperel', 'česko', 'sentra', 'technologyrel']\n"
     ]
    }
   ],
   "source": [
    "print(len(processed_words))\n",
    "print(processed_words[100:120])"
   ]
  }
 ],
 "metadata": {
  "kernelspec": {
   "display_name": "Python 3",
   "language": "python",
   "name": "python3"
  },
  "language_info": {
   "codemirror_mode": {
    "name": "ipython",
    "version": 3
   },
   "file_extension": ".py",
   "mimetype": "text/x-python",
   "name": "python",
   "nbconvert_exporter": "python",
   "pygments_lexer": "ipython3",
   "version": "3.8.3"
  }
 },
 "nbformat": 4,
 "nbformat_minor": 1
}
